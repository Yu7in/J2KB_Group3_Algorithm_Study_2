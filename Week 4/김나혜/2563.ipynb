{
 "cells": [
  {
   "cell_type": "code",
   "execution_count": null,
   "metadata": {},
   "outputs": [],
   "source": [
    "import sys\n",
    "sys.stdin = open(\"input.txt\", 'r')\n",
    "\n",
    "paper = [[0]*101 for _ in range(101)]\n",
    "N = int(input())\n",
    "area = 0\n",
    "for k in range(N):\n",
    "    a,b = map(int, input().split())\n",
    "    for i in range(b, b+10):\n",
    "        for j in range(a, a+10):\n",
    "            paper[i][j] = 1\n",
    "for e in paper:\n",
    "    for a in e:\n",
    "        if a:\n",
    "            area +=1\n",
    "print(area)"
   ]
  }
 ],
 "metadata": {
  "kernelspec": {
   "display_name": "Python 3",
   "language": "python",
   "name": "python3"
  },
  "language_info": {
   "codemirror_mode": {
    "name": "ipython",
    "version": 3
   },
   "file_extension": ".py",
   "mimetype": "text/x-python",
   "name": "python",
   "nbconvert_exporter": "python",
   "pygments_lexer": "ipython3",
   "version": "3.8.5"
  }
 },
 "nbformat": 4,
 "nbformat_minor": 4
}
