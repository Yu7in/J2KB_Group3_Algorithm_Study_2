{
 "cells": [
  {
   "cell_type": "code",
   "execution_count": 1,
   "metadata": {},
   "outputs": [],
   "source": [
    "import sys\n",
    "input = sys.stdin.readline"
   ]
  },
  {
   "cell_type": "code",
   "execution_count": 3,
   "metadata": {},
   "outputs": [
    {
     "ename": "IndentationError",
     "evalue": "unindent does not match any outer indentation level (<tokenize>, line 23)",
     "output_type": "error",
     "traceback": [
      "\u001b[1;36m  File \u001b[1;32m\"<tokenize>\"\u001b[1;36m, line \u001b[1;32m23\u001b[0m\n\u001b[1;33m    visited[nr][nc] =1\u001b[0m\n\u001b[1;37m    ^\u001b[0m\n\u001b[1;31mIndentationError\u001b[0m\u001b[1;31m:\u001b[0m unindent does not match any outer indentation level\n"
     ]
    }
   ],
   "source": [
    "def dfs(type, pos, board, visited):\n",
    "    dr = [-1,0,1,0]\n",
    "    dc = [0,1,0,-1]\n",
    "    position_list =[]\n",
    "    position_list.append(pos)\n",
    "    visited[pos[0]][pos[1]] =1\n",
    "    while position_list:\n",
    "        r,c = position_list.pop()\n",
    "        current_color = board[r][c]\n",
    "        \n",
    "        for i in range(4):\n",
    "            nr = r + dr[i]\n",
    "            nc = c + dc[i]\n",
    "            if 0 <= nr and 0 <= nc and nr < n and nc < n and not visited[nr][nc]:\n",
    "                next_color = board[nr][nc]\n",
    "                if current_color == next_color:\n",
    "                    visited[nr][nc] = 1\n",
    "                    position_list.append((nr,nc))\n",
    "                    continue\n",
    "                \n",
    "                if type ==1 and(current_color =='R' or current_color ==\"G\")/\n",
    "                            and(next_color ==\"R\" or next_color ==\"G\"):\n",
    "                        visited[nr][nc] =1\n",
    "                        position_list.append((nr,nc)) "
   ]
  },
  {
   "cell_type": "code",
   "execution_count": 4,
   "metadata": {},
   "outputs": [
    {
     "ename": "IndentationError",
     "evalue": "unexpected indent (<ipython-input-4-82018845c540>, line 10)",
     "output_type": "error",
     "traceback": [
      "\u001b[1;36m  File \u001b[1;32m\"<ipython-input-4-82018845c540>\"\u001b[1;36m, line \u001b[1;32m10\u001b[0m\n\u001b[1;33m    count_0 +=1\u001b[0m\n\u001b[1;37m    ^\u001b[0m\n\u001b[1;31mIndentationError\u001b[0m\u001b[1;31m:\u001b[0m unexpected indent\n"
     ]
    }
   ],
   "source": [
    "def slove(n,board):\n",
    "    visited_0 = [[0]*n for j in range(n)]\n",
    "    visited_1 = [[0]*n for j in range(n)]\n",
    "    count_0 = 0\n",
    "    count_1 = 0\n",
    "    for r in range(n):\n",
    "        for c in range(n):\n",
    "            if not visited_1[r][c]:\n",
    "               dfs(1,(r,c), board, visited_1)\n",
    "                count_0 +=1\n",
    "            if not visited_0[r][c]:\n",
    "               dfs(0,(r,c), board, visited_0)\n",
    "                count_0 +=1\n",
    "    print(\"{0},{1}\".format(count_0, count_1))            "
   ]
  },
  {
   "cell_type": "code",
   "execution_count": null,
   "metadata": {},
   "outputs": [],
   "source": [
    "if_name_ == \"main\"\n",
    "    n = int(input().strip())\n",
    "    board = []    \n",
    "    for i in range(n):\n",
    "        board.append(list(input().strip()))\n",
    "    solve(n,board)"
   ]
  }
 ],
 "metadata": {
  "kernelspec": {
   "display_name": "Python 3",
   "language": "python",
   "name": "python3"
  },
  "language_info": {
   "codemirror_mode": {
    "name": "ipython",
    "version": 3
   },
   "file_extension": ".py",
   "mimetype": "text/x-python",
   "name": "python",
   "nbconvert_exporter": "python",
   "pygments_lexer": "ipython3",
   "version": "3.8.5"
  }
 },
 "nbformat": 4,
 "nbformat_minor": 4
}
