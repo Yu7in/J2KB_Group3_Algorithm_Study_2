{
 "cells": [
  {
   "cell_type": "code",
   "execution_count": 16,
   "metadata": {},
   "outputs": [
    {
     "name": "stdout",
     "output_type": "stream",
     "text": [
      "5\n"
     ]
    }
   ],
   "source": [
    "case = int(input())"
   ]
  },
  {
   "cell_type": "code",
   "execution_count": 17,
   "metadata": {},
   "outputs": [
    {
     "name": "stdout",
     "output_type": "stream",
     "text": [
      "1 1\n",
      "Case #1: 1 + 1= 2\n",
      "2 3\n",
      "Case #2: 2 + 3= 5\n",
      "3 4\n",
      "Case #3: 3 + 4= 7\n",
      "9 8\n",
      "Case #4: 9 + 8= 17\n",
      "5 2\n",
      "Case #5: 5 + 2= 7\n"
     ]
    }
   ],
   "source": [
    "for i in range(case):\n",
    "    A, B = map(int, input().split())\n",
    "    print('Case #%d: %d + %d= %d'%(i+1, A,B,A+B))"
   ]
  },
  {
   "cell_type": "code",
   "execution_count": null,
   "metadata": {},
   "outputs": [],
   "source": []
  }
 ],
 "metadata": {
  "kernelspec": {
   "display_name": "Python 3",
   "language": "python",
   "name": "python3"
  },
  "language_info": {
   "codemirror_mode": {
    "name": "ipython",
    "version": 3
   },
   "file_extension": ".py",
   "mimetype": "text/x-python",
   "name": "python",
   "nbconvert_exporter": "python",
   "pygments_lexer": "ipython3",
   "version": "3.8.5"
  }
 },
 "nbformat": 4,
 "nbformat_minor": 4
}
