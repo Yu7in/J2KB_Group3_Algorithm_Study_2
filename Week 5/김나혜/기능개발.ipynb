{
 "cells": [
  {
   "cell_type": "code",
   "execution_count": null,
   "metadata": {},
   "outputs": [],
   "source": [
    "# 어려워서 못풀고 코드 공부하였습니다ㅠㅠ\n",
    "\n",
    "import math\n",
    "\n",
    "def solution(progresses, speeds):\n",
    "    left_days = [math.ceil((100-progresses[i])/speeds[i]) for i in range(len(speeds))]\n",
    "\n",
    "    answer = []\n",
    "    start = left_days[0]\n",
    "    count = 1\n",
    "    \n",
    "    if len(left_days) ==1:\n",
    "        answer = [1]\n",
    "        return answer\n",
    "    else:\n",
    "        for i in range(1, len(left_days)):\n",
    "            if start >= left_days[i]:\n",
    "                count += 1\n",
    "            else:\n",
    "                answer.append(count)\n",
    "                start = left_days[i]\n",
    "                count = 1\n",
    "        answer.append(count)\n",
    "        return answer"
   ]
  }
 ],
 "metadata": {
  "kernelspec": {
   "display_name": "Python 3",
   "language": "python",
   "name": "python3"
  },
  "language_info": {
   "codemirror_mode": {
    "name": "ipython",
    "version": 3
   },
   "file_extension": ".py",
   "mimetype": "text/x-python",
   "name": "python",
   "nbconvert_exporter": "python",
   "pygments_lexer": "ipython3",
   "version": "3.8.5"
  }
 },
 "nbformat": 4,
 "nbformat_minor": 4
}
