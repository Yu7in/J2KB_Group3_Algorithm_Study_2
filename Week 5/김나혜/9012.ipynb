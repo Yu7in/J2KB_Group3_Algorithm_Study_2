{
 "cells": [
  {
   "cell_type": "code",
   "execution_count": null,
   "metadata": {},
   "outputs": [],
   "source": [
    "testCase = int(input()) \n",
    "\n",
    "for _ in range(testCase): \n",
    "    stack = [] \n",
    "    vps = input() \n",
    "    check = 0 \n",
    "    for c in vps: \n",
    "        if c =='(': \n",
    "            stack.append(c) \n",
    "        elif c ==')': \n",
    "            if len(stack) ==0: \n",
    "                print('NO') \n",
    "                check = 1 \n",
    "                break \n",
    "            else: stack.pop(-1)\n",
    "\n",
    "    if len(stack) != 0 and check == 0: \n",
    "        print('NO') \n",
    "    elif len(stack) ==0 and check ==0: \n",
    "        print('YES')"
   ]
  }
 ],
 "metadata": {
  "kernelspec": {
   "display_name": "Python 3",
   "language": "python",
   "name": "python3"
  },
  "language_info": {
   "codemirror_mode": {
    "name": "ipython",
    "version": 3
   },
   "file_extension": ".py",
   "mimetype": "text/x-python",
   "name": "python",
   "nbconvert_exporter": "python",
   "pygments_lexer": "ipython3",
   "version": "3.8.5"
  }
 },
 "nbformat": 4,
 "nbformat_minor": 4
}
