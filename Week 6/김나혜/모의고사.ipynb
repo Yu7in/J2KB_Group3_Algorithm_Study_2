{
 "cells": [
  {
   "cell_type": "code",
   "execution_count": null,
   "metadata": {},
   "outputs": [],
   "source": [
    "def solution(answers): \n",
    "    answer = [] \n",
    "    answer_temp = [] \n",
    "    count01 = 0 \n",
    "    count02 = 0 \n",
    "    count03 = 0 \n",
    "    \n",
    "    one = [1,2,3,4,5] \n",
    "    two = [2,1,2,3,2,4,2,5] \n",
    "    three = [3,3,1,1,2,2,4,4,5,5] \n",
    "    \n",
    "    for i in range(len(answers)): \n",
    "        if answers[i] == one[i%len(one)]: \n",
    "            count01+=1 \n",
    "        if answers[i] == two[i%len(two)]: \n",
    "            count02+=1 \n",
    "        if answers[i] == three[i%len(three)]: \n",
    "            count03+=1 an\n",
    "            \n",
    "        answer_temp = [count01, count02, count03] \n",
    "        \n",
    "        for person, score in enumerate(answer_temp): \n",
    "            if score == max(answer_temp): \n",
    "                answer.append(person+1) \n",
    "                \n",
    "        return answer"
   ]
  }
 ],
 "metadata": {
  "kernelspec": {
   "display_name": "Python 3",
   "language": "python",
   "name": "python3"
  },
  "language_info": {
   "codemirror_mode": {
    "name": "ipython",
    "version": 3
   },
   "file_extension": ".py",
   "mimetype": "text/x-python",
   "name": "python",
   "nbconvert_exporter": "python",
   "pygments_lexer": "ipython3",
   "version": "3.8.5"
  }
 },
 "nbformat": 4,
 "nbformat_minor": 4
}
