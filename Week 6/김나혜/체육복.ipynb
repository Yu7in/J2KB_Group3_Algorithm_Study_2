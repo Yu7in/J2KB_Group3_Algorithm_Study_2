{
 "cells": [
  {
   "cell_type": "code",
   "execution_count": null,
   "metadata": {},
   "outputs": [],
   "source": [
    "def solution(n, lost, reserve): \n",
    "    reser_del = set(reserve)-set(lost) \n",
    "    lost_del = set(lost)-set(reserve) \n",
    "    \n",
    "    for i in reser_del: \n",
    "        if i-1 in lost_del: \n",
    "            lost_del.remove(i-1) \n",
    "        elif i+1 in lost_del: \n",
    "            lost_del.remove(i+1) \n",
    "            \n",
    "    return n-len(lost_del)"
   ]
  }
 ],
 "metadata": {
  "kernelspec": {
   "display_name": "Python 3",
   "language": "python",
   "name": "python3"
  },
  "language_info": {
   "codemirror_mode": {
    "name": "ipython",
    "version": 3
   },
   "file_extension": ".py",
   "mimetype": "text/x-python",
   "name": "python",
   "nbconvert_exporter": "python",
   "pygments_lexer": "ipython3",
   "version": "3.8.5"
  }
 },
 "nbformat": 4,
 "nbformat_minor": 4
}
