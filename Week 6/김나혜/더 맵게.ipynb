{
 "cells": [
  {
   "cell_type": "code",
   "execution_count": null,
   "metadata": {},
   "outputs": [],
   "source": [
    "import heapq\n",
    "\n",
    "def solution(scoville, k):\n",
    "    heap = []\n",
    "    for num in scoville:\n",
    "         heapq.heappush(heap, num)\n",
    "\n",
    "     mix_cnt = 0\n",
    "     while heap[0] < k:\n",
    "        try:\n",
    "            heapq.heappush(heap, heapq.heappop(heap) + (heapq.heappop(heap) * 2))\n",
    "        except IndexError:\n",
    "            return -1\n",
    "        mix_cnt += 1\n",
    "\n",
    "    return mix_cnt"
   ]
  }
 ],
 "metadata": {
  "kernelspec": {
   "display_name": "Python 3",
   "language": "python",
   "name": "python3"
  },
  "language_info": {
   "codemirror_mode": {
    "name": "ipython",
    "version": 3
   },
   "file_extension": ".py",
   "mimetype": "text/x-python",
   "name": "python",
   "nbconvert_exporter": "python",
   "pygments_lexer": "ipython3",
   "version": "3.8.5"
  }
 },
 "nbformat": 4,
 "nbformat_minor": 4
}
